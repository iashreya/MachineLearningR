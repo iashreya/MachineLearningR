{
 "cells": [
  {
   "cell_type": "markdown",
   "metadata": {},
   "source": [
    "<h2>Normal Equation Method Calculation of Multivariate Linear Regression"
   ]
  },
  {
   "cell_type": "code",
   "execution_count": null,
   "metadata": {
    "collapsed": true
   },
   "outputs": [],
   "source": [
    "setwd('C:/Users/Nuages/Desktop/')\n",
    "dataset = read.csv('50_Startups.csv')\n",
    "dataset = dataset[-4]"
   ]
  },
  {
   "cell_type": "code",
   "execution_count": 137,
   "metadata": {},
   "outputs": [
    {
     "data": {
      "text/html": [
       "<table>\n",
       "<thead><tr><th scope=col>R.D.Spend</th><th scope=col>Administration</th><th scope=col>Marketing.Spend</th><th scope=col>Profit</th></tr></thead>\n",
       "<tbody>\n",
       "\t<tr><td>165349.2 </td><td>136897.80</td><td>471784.1 </td><td>192261.8 </td></tr>\n",
       "\t<tr><td>162597.7 </td><td>151377.59</td><td>443898.5 </td><td>191792.1 </td></tr>\n",
       "\t<tr><td>153441.5 </td><td>101145.55</td><td>407934.5 </td><td>191050.4 </td></tr>\n",
       "\t<tr><td>144372.4 </td><td>118671.85</td><td>383199.6 </td><td>182902.0 </td></tr>\n",
       "\t<tr><td>142107.3 </td><td> 91391.77</td><td>366168.4 </td><td>166187.9 </td></tr>\n",
       "\t<tr><td>131876.9 </td><td> 99814.71</td><td>362861.4 </td><td>156991.1 </td></tr>\n",
       "</tbody>\n",
       "</table>\n"
      ],
      "text/latex": [
       "\\begin{tabular}{r|llll}\n",
       " R.D.Spend & Administration & Marketing.Spend & Profit\\\\\n",
       "\\hline\n",
       "\t 165349.2  & 136897.80 & 471784.1  & 192261.8 \\\\\n",
       "\t 162597.7  & 151377.59 & 443898.5  & 191792.1 \\\\\n",
       "\t 153441.5  & 101145.55 & 407934.5  & 191050.4 \\\\\n",
       "\t 144372.4  & 118671.85 & 383199.6  & 182902.0 \\\\\n",
       "\t 142107.3  &  91391.77 & 366168.4  & 166187.9 \\\\\n",
       "\t 131876.9  &  99814.71 & 362861.4  & 156991.1 \\\\\n",
       "\\end{tabular}\n"
      ],
      "text/markdown": [
       "\n",
       "R.D.Spend | Administration | Marketing.Spend | Profit | \n",
       "|---|---|---|---|---|---|\n",
       "| 165349.2  | 136897.80 | 471784.1  | 192261.8  | \n",
       "| 162597.7  | 151377.59 | 443898.5  | 191792.1  | \n",
       "| 153441.5  | 101145.55 | 407934.5  | 191050.4  | \n",
       "| 144372.4  | 118671.85 | 383199.6  | 182902.0  | \n",
       "| 142107.3  |  91391.77 | 366168.4  | 166187.9  | \n",
       "| 131876.9  |  99814.71 | 362861.4  | 156991.1  | \n",
       "\n",
       "\n"
      ],
      "text/plain": [
       "  R.D.Spend Administration Marketing.Spend Profit  \n",
       "1 165349.2  136897.80      471784.1        192261.8\n",
       "2 162597.7  151377.59      443898.5        191792.1\n",
       "3 153441.5  101145.55      407934.5        191050.4\n",
       "4 144372.4  118671.85      383199.6        182902.0\n",
       "5 142107.3   91391.77      366168.4        166187.9\n",
       "6 131876.9   99814.71      362861.4        156991.1"
      ]
     },
     "metadata": {},
     "output_type": "display_data"
    }
   ],
   "source": [
    "head(dataset)"
   ]
  },
  {
   "cell_type": "code",
   "execution_count": 138,
   "metadata": {},
   "outputs": [
    {
     "data": {
      "text/html": [
       "<table>\n",
       "<tbody>\n",
       "\t<tr><td>1        </td><td>165349.2 </td><td>136897.80</td><td>471784.1 </td></tr>\n",
       "\t<tr><td>1        </td><td>162597.7 </td><td>151377.59</td><td>443898.5 </td></tr>\n",
       "\t<tr><td>1        </td><td>153441.5 </td><td>101145.55</td><td>407934.5 </td></tr>\n",
       "\t<tr><td>1        </td><td>144372.4 </td><td>118671.85</td><td>383199.6 </td></tr>\n",
       "\t<tr><td>1        </td><td>142107.3 </td><td> 91391.77</td><td>366168.4 </td></tr>\n",
       "\t<tr><td>1        </td><td>131876.9 </td><td> 99814.71</td><td>362861.4 </td></tr>\n",
       "</tbody>\n",
       "</table>\n"
      ],
      "text/latex": [
       "\\begin{tabular}{llll}\n",
       "\t 1         & 165349.2  & 136897.80 & 471784.1 \\\\\n",
       "\t 1         & 162597.7  & 151377.59 & 443898.5 \\\\\n",
       "\t 1         & 153441.5  & 101145.55 & 407934.5 \\\\\n",
       "\t 1         & 144372.4  & 118671.85 & 383199.6 \\\\\n",
       "\t 1         & 142107.3  &  91391.77 & 366168.4 \\\\\n",
       "\t 1         & 131876.9  &  99814.71 & 362861.4 \\\\\n",
       "\\end{tabular}\n"
      ],
      "text/markdown": [
       "\n",
       "| 1         | 165349.2  | 136897.80 | 471784.1  | \n",
       "| 1         | 162597.7  | 151377.59 | 443898.5  | \n",
       "| 1         | 153441.5  | 101145.55 | 407934.5  | \n",
       "| 1         | 144372.4  | 118671.85 | 383199.6  | \n",
       "| 1         | 142107.3  |  91391.77 | 366168.4  | \n",
       "| 1         | 131876.9  |  99814.71 | 362861.4  | \n",
       "\n",
       "\n"
      ],
      "text/plain": [
       "     [,1] [,2]     [,3]      [,4]    \n",
       "[1,] 1    165349.2 136897.80 471784.1\n",
       "[2,] 1    162597.7 151377.59 443898.5\n",
       "[3,] 1    153441.5 101145.55 407934.5\n",
       "[4,] 1    144372.4 118671.85 383199.6\n",
       "[5,] 1    142107.3  91391.77 366168.4\n",
       "[6,] 1    131876.9  99814.71 362861.4"
      ]
     },
     "metadata": {},
     "output_type": "display_data"
    }
   ],
   "source": [
    "design_matrix = cbind(matrix(data = 1, nrow = nrow(dataset), ncol = 1), as.matrix(dataset[, 0:3]))\n",
    "colnames(design_matrix) = NULL\n",
    "head(design_matrix)"
   ]
  },
  {
   "cell_type": "code",
   "execution_count": 159,
   "metadata": {},
   "outputs": [],
   "source": [
    "y = as.matrix(dataset[4])\n",
    "colnames(y) = NULL"
   ]
  },
  {
   "cell_type": "code",
   "execution_count": 140,
   "metadata": {
    "collapsed": true
   },
   "outputs": [],
   "source": [
    "X = design_matrix"
   ]
  },
  {
   "cell_type": "code",
   "execution_count": 141,
   "metadata": {
    "scrolled": false
   },
   "outputs": [],
   "source": [
    "parameter_vector = solve(t(X)%*%X)%*%t(X)%*%y"
   ]
  },
  {
   "cell_type": "code",
   "execution_count": 142,
   "metadata": {},
   "outputs": [
    {
     "data": {
      "text/html": [
       "<table>\n",
       "<tbody>\n",
       "\t<tr><td> 5.012219e+04</td></tr>\n",
       "\t<tr><td> 8.057150e-01</td></tr>\n",
       "\t<tr><td>-2.681597e-02</td></tr>\n",
       "\t<tr><td> 2.722806e-02</td></tr>\n",
       "</tbody>\n",
       "</table>\n"
      ],
      "text/latex": [
       "\\begin{tabular}{l}\n",
       "\t  5.012219e+04\\\\\n",
       "\t  8.057150e-01\\\\\n",
       "\t -2.681597e-02\\\\\n",
       "\t  2.722806e-02\\\\\n",
       "\\end{tabular}\n"
      ],
      "text/markdown": [
       "\n",
       "|  5.012219e+04 | \n",
       "|  8.057150e-01 | \n",
       "| -2.681597e-02 | \n",
       "|  2.722806e-02 | \n",
       "\n",
       "\n"
      ],
      "text/plain": [
       "     [,1]         \n",
       "[1,]  5.012219e+04\n",
       "[2,]  8.057150e-01\n",
       "[3,] -2.681597e-02\n",
       "[4,]  2.722806e-02"
      ]
     },
     "metadata": {},
     "output_type": "display_data"
    }
   ],
   "source": [
    "parameter_vector"
   ]
  },
  {
   "cell_type": "code",
   "execution_count": 143,
   "metadata": {},
   "outputs": [],
   "source": [
    "result <- function(x){\n",
    "    return(x%*%parameter_vector)\n",
    "}"
   ]
  },
  {
   "cell_type": "code",
   "execution_count": 144,
   "metadata": {},
   "outputs": [
    {
     "data": {
      "text/html": [
       "<table>\n",
       "<tbody>\n",
       "\t<tr><td>192521.3</td></tr>\n",
       "\t<tr><td>189156.8</td></tr>\n",
       "\t<tr><td>182147.3</td></tr>\n",
       "\t<tr><td>173696.7</td></tr>\n",
       "\t<tr><td>172139.5</td></tr>\n",
       "\t<tr><td>163580.8</td></tr>\n",
       "</tbody>\n",
       "</table>\n"
      ],
      "text/latex": [
       "\\begin{tabular}{l}\n",
       "\t 192521.3\\\\\n",
       "\t 189156.8\\\\\n",
       "\t 182147.3\\\\\n",
       "\t 173696.7\\\\\n",
       "\t 172139.5\\\\\n",
       "\t 163580.8\\\\\n",
       "\\end{tabular}\n"
      ],
      "text/markdown": [
       "\n",
       "| 192521.3 | \n",
       "| 189156.8 | \n",
       "| 182147.3 | \n",
       "| 173696.7 | \n",
       "| 172139.5 | \n",
       "| 163580.8 | \n",
       "\n",
       "\n"
      ],
      "text/plain": [
       "     [,1]    \n",
       "[1,] 192521.3\n",
       "[2,] 189156.8\n",
       "[3,] 182147.3\n",
       "[4,] 173696.7\n",
       "[5,] 172139.5\n",
       "[6,] 163580.8"
      ]
     },
     "metadata": {},
     "output_type": "display_data"
    }
   ],
   "source": [
    "y_pred = result(design_matrix)\n",
    "head(y_pred)"
   ]
  },
  {
   "cell_type": "code",
   "execution_count": 145,
   "metadata": {
    "collapsed": true
   },
   "outputs": [],
   "source": [
    "###Using lm function\n",
    "regressor = lm(formula = Profit~., dataset)\n",
    "res = predict(object = regressor, newdata = dataset)"
   ]
  },
  {
   "cell_type": "code",
   "execution_count": 146,
   "metadata": {},
   "outputs": [
    {
     "data": {
      "text/html": [
       "<table>\n",
       "<tbody>\n",
       "\t<tr><td>1</td></tr>\n",
       "</tbody>\n",
       "</table>\n"
      ],
      "text/latex": [
       "\\begin{tabular}{l}\n",
       "\t 1\\\\\n",
       "\\end{tabular}\n"
      ],
      "text/markdown": [
       "\n",
       "| 1 | \n",
       "\n",
       "\n"
      ],
      "text/plain": [
       "     [,1]\n",
       "[1,] 1   "
      ]
     },
     "metadata": {},
     "output_type": "display_data"
    }
   ],
   "source": [
    "cor(res, y_pred)"
   ]
  },
  {
   "cell_type": "markdown",
   "metadata": {},
   "source": [
    "<h1>Relation between y_pred and res</h1>"
   ]
  },
  {
   "cell_type": "code",
   "execution_count": 156,
   "metadata": {},
   "outputs": [
    {
     "data": {
      "image/png": "[encoded data removed]",
      "text/plain": [
       "plot without title"
      ]
     },
     "metadata": {},
     "output_type": "display_data"
    }
   ],
   "source": [
    "plot(x = y_pred, y = res, type = 'l', col = 'red')"
   ]
  },
  {
   "cell_type": "code",
   "execution_count": null,
   "metadata": {
    "collapsed": true
   },
   "outputs": [],
   "source": []
  }
 ],
 "metadata": {
  "kernelspec": {
   "display_name": "R",
   "language": "R",
   "name": "ir"
  },
  "language_info": {
   "codemirror_mode": "r",
   "file_extension": ".r",
   "mimetype": "text/x-r-source",
   "name": "R",
   "pygments_lexer": "r",
   "version": "3.4.2"
  }
 },
 "nbformat": 4,
 "nbformat_minor": 2
}
