{
 "cells": [
  {
   "cell_type": "code",
   "execution_count": 1,
   "metadata": {
    "collapsed": true
   },
   "outputs": [],
   "source": [
    "setwd(\"A:/Documents and Data/R/Machine Learning A-Z Template Folder/Part 2 - Regression/Section 5 - Multiple Linear Regression\")"
   ]
  },
  {
   "cell_type": "code",
   "execution_count": 2,
   "metadata": {},
   "outputs": [
    {
     "data": {
      "text/html": [
       "<table>\n",
       "<thead><tr><th scope=col>R.D.Spend</th><th scope=col>Administration</th><th scope=col>Marketing.Spend</th><th scope=col>Profit</th></tr></thead>\n",
       "<tbody>\n",
       "\t<tr><td>165349.2 </td><td>136897.80</td><td>471784.1 </td><td>192261.8 </td></tr>\n",
       "\t<tr><td>162597.7 </td><td>151377.59</td><td>443898.5 </td><td>191792.1 </td></tr>\n",
       "\t<tr><td>153441.5 </td><td>101145.55</td><td>407934.5 </td><td>191050.4 </td></tr>\n",
       "\t<tr><td>144372.4 </td><td>118671.85</td><td>383199.6 </td><td>182902.0 </td></tr>\n",
       "\t<tr><td>142107.3 </td><td> 91391.77</td><td>366168.4 </td><td>166187.9 </td></tr>\n",
       "\t<tr><td>131876.9 </td><td> 99814.71</td><td>362861.4 </td><td>156991.1 </td></tr>\n",
       "</tbody>\n",
       "</table>\n"
      ],
      "text/latex": [
       "\\begin{tabular}{r|llll}\n",
       " R.D.Spend & Administration & Marketing.Spend & Profit\\\\\n",
       "\\hline\n",
       "\t 165349.2  & 136897.80 & 471784.1  & 192261.8 \\\\\n",
       "\t 162597.7  & 151377.59 & 443898.5  & 191792.1 \\\\\n",
       "\t 153441.5  & 101145.55 & 407934.5  & 191050.4 \\\\\n",
       "\t 144372.4  & 118671.85 & 383199.6  & 182902.0 \\\\\n",
       "\t 142107.3  &  91391.77 & 366168.4  & 166187.9 \\\\\n",
       "\t 131876.9  &  99814.71 & 362861.4  & 156991.1 \\\\\n",
       "\\end{tabular}\n"
      ],
      "text/markdown": [
       "\n",
       "R.D.Spend | Administration | Marketing.Spend | Profit | \n",
       "|---|---|---|---|---|---|\n",
       "| 165349.2  | 136897.80 | 471784.1  | 192261.8  | \n",
       "| 162597.7  | 151377.59 | 443898.5  | 191792.1  | \n",
       "| 153441.5  | 101145.55 | 407934.5  | 191050.4  | \n",
       "| 144372.4  | 118671.85 | 383199.6  | 182902.0  | \n",
       "| 142107.3  |  91391.77 | 366168.4  | 166187.9  | \n",
       "| 131876.9  |  99814.71 | 362861.4  | 156991.1  | \n",
       "\n",
       "\n"
      ],
      "text/plain": [
       "  R.D.Spend Administration Marketing.Spend Profit  \n",
       "1 165349.2  136897.80      471784.1        192261.8\n",
       "2 162597.7  151377.59      443898.5        191792.1\n",
       "3 153441.5  101145.55      407934.5        191050.4\n",
       "4 144372.4  118671.85      383199.6        182902.0\n",
       "5 142107.3   91391.77      366168.4        166187.9\n",
       "6 131876.9   99814.71      362861.4        156991.1"
      ]
     },
     "metadata": {},
     "output_type": "display_data"
    }
   ],
   "source": [
    "dataset = read.csv('50_Startups.csv')\n",
    "dataset = dataset[-4]\n",
    "head(dataset)"
   ]
  },
  {
   "cell_type": "code",
   "execution_count": 3,
   "metadata": {
    "collapsed": true
   },
   "outputs": [],
   "source": [
    "#Initializing vectors\n",
    "parameter_vector = matrix(data = 0, nrow = ncol(dataset), ncol = 1)\n",
    "design_matrix = cbind(matrix(data = 1, nrow = 50, ncol = 1 ), as.matrix(dataset[1:3]))\n",
    "colnames(design_matrix) = NULL\n",
    "y = as.matrix(dataset[4])\n",
    "colnames(y) = NULL\n",
    "m = nrow(dataset)\n",
    "temp = parameter_vector\n",
    "alpha = 0.00000000001\n",
    "change = 1"
   ]
  },
  {
   "cell_type": "code",
   "execution_count": null,
   "metadata": {
    "collapsed": true
   },
   "outputs": [],
   "source": [
    "while (change == 1){\n",
    "    hypothesis_matrix = design_matrix%*%parameter_vector\n",
    "    diff = (hypothesis_matrix - y)\n",
    "    temp = parameter_vector - t(alpha/m*t(diff)%*%design_matrix)\n",
    "    print(temp)\n",
    "    if(all(temp == parameter_vector)){\n",
    "        change = 0\n",
    "    }\n",
    "    parameter_vector = temp\n",
    "}"
   ]
  },
  {
   "cell_type": "code",
   "execution_count": null,
   "metadata": {
    "collapsed": true
   },
   "outputs": [],
   "source": [
    "result <- function(x) {\n",
    "  return(x%*%parameter_vector)\n",
    "}"
   ]
  },
  {
   "cell_type": "code",
   "execution_count": null,
   "metadata": {
    "collapsed": true
   },
   "outputs": [],
   "source": []
  }
 ],
 "metadata": {
  "kernelspec": {
   "display_name": "R",
   "language": "R",
   "name": "ir"
  },
  "language_info": {
   "codemirror_mode": "r",
   "file_extension": ".r",
   "mimetype": "text/x-r-source",
   "name": "R",
   "pygments_lexer": "r",
   "version": "3.4.2"
  }
 },
 "nbformat": 4,
 "nbformat_minor": 2
}
