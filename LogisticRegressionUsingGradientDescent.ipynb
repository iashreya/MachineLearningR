{
 "cells": [
  {
   "cell_type": "markdown",
   "metadata": {
    "collapsed": true
   },
   "source": [
    "<h2>Logistic Regression Using Gradient Descent</h2>"
   ]
  },
  {
   "cell_type": "code",
   "execution_count": 9,
   "metadata": {
    "collapsed": true
   },
   "outputs": [],
   "source": [
    "dataset = read.csv(\"wisc_bc_data.csv\")\n",
    "data = dataset[230:239,]\n",
    "data = data[-1]\n",
    "data = data[, 1:3]\n",
    "data$diagnosis= factor(data$diagnosis, levels = c(\"M\", \"B\"), labels = c(0, 1))\n"
   ]
  },
  {
   "cell_type": "code",
   "execution_count": 10,
   "metadata": {},
   "outputs": [
    {
     "data": {
      "text/html": [
       "<table>\n",
       "<thead><tr><th></th><th scope=col>diagnosis</th><th scope=col>radius_mean</th><th scope=col>texture_mean</th></tr></thead>\n",
       "<tbody>\n",
       "\t<tr><th scope=row>230</th><td>0     </td><td>12.830</td><td>22.33 </td></tr>\n",
       "\t<tr><th scope=row>231</th><td>0     </td><td>17.050</td><td>19.08 </td></tr>\n",
       "\t<tr><th scope=row>232</th><td>1     </td><td>11.320</td><td>27.08 </td></tr>\n",
       "\t<tr><th scope=row>233</th><td>1     </td><td>11.220</td><td>33.81 </td></tr>\n",
       "\t<tr><th scope=row>234</th><td>0     </td><td>20.510</td><td>27.81 </td></tr>\n",
       "\t<tr><th scope=row>235</th><td>1     </td><td> 9.567</td><td>15.91 </td></tr>\n",
       "\t<tr><th scope=row>236</th><td>1     </td><td>14.030</td><td>21.25 </td></tr>\n",
       "\t<tr><th scope=row>237</th><td>0     </td><td>23.210</td><td>26.97 </td></tr>\n",
       "\t<tr><th scope=row>238</th><td>0     </td><td>20.480</td><td>21.46 </td></tr>\n",
       "\t<tr><th scope=row>239</th><td>1     </td><td>14.220</td><td>27.85 </td></tr>\n",
       "</tbody>\n",
       "</table>\n"
      ],
      "text/latex": [
       "\\begin{tabular}{r|lll}\n",
       "  & diagnosis & radius\\_mean & texture\\_mean\\\\\n",
       "\\hline\n",
       "\t230 & 0      & 12.830 & 22.33 \\\\\n",
       "\t231 & 0      & 17.050 & 19.08 \\\\\n",
       "\t232 & 1      & 11.320 & 27.08 \\\\\n",
       "\t233 & 1      & 11.220 & 33.81 \\\\\n",
       "\t234 & 0      & 20.510 & 27.81 \\\\\n",
       "\t235 & 1      &  9.567 & 15.91 \\\\\n",
       "\t236 & 1      & 14.030 & 21.25 \\\\\n",
       "\t237 & 0      & 23.210 & 26.97 \\\\\n",
       "\t238 & 0      & 20.480 & 21.46 \\\\\n",
       "\t239 & 1      & 14.220 & 27.85 \\\\\n",
       "\\end{tabular}\n"
      ],
      "text/markdown": [
       "\n",
       "| <!--/--> | diagnosis | radius_mean | texture_mean | \n",
       "|---|---|---|---|---|---|---|---|---|---|\n",
       "| 230 | 0      | 12.830 | 22.33  | \n",
       "| 231 | 0      | 17.050 | 19.08  | \n",
       "| 232 | 1      | 11.320 | 27.08  | \n",
       "| 233 | 1      | 11.220 | 33.81  | \n",
       "| 234 | 0      | 20.510 | 27.81  | \n",
       "| 235 | 1      |  9.567 | 15.91  | \n",
       "| 236 | 1      | 14.030 | 21.25  | \n",
       "| 237 | 0      | 23.210 | 26.97  | \n",
       "| 238 | 0      | 20.480 | 21.46  | \n",
       "| 239 | 1      | 14.220 | 27.85  | \n",
       "\n",
       "\n"
      ],
      "text/plain": [
       "    diagnosis radius_mean texture_mean\n",
       "230 0         12.830      22.33       \n",
       "231 0         17.050      19.08       \n",
       "232 1         11.320      27.08       \n",
       "233 1         11.220      33.81       \n",
       "234 0         20.510      27.81       \n",
       "235 1          9.567      15.91       \n",
       "236 1         14.030      21.25       \n",
       "237 0         23.210      26.97       \n",
       "238 0         20.480      21.46       \n",
       "239 1         14.220      27.85       "
      ]
     },
     "metadata": {},
     "output_type": "display_data"
    }
   ],
   "source": [
    "data"
   ]
  },
  {
   "cell_type": "code",
   "execution_count": 228,
   "metadata": {
    "scrolled": false
   },
   "outputs": [
    {
     "data": {},
     "metadata": {},
     "output_type": "display_data"
    },
    {
     "data": {
      "image/png": "[encoded data removed]",
      "text/plain": [
       "plot without title"
      ]
     },
     "metadata": {},
     "output_type": "display_data"
    }
   ],
   "source": [
    "\n",
    "library(ggplot2)\n",
    "library(ggthemes)\n",
    "library(scales)\n",
    "ggplot(data = data, aes(x = radius_mean, y = texture_mean, col =  as.factor(y)))+\n",
    "  geom_point(size = 6, alpha = 0.75) +\n",
    "  ggtitle(\"DATA FOR LOGISTIC REGRESSION\")+\n",
    "  theme_calc()+\n",
    "  scale_color_calc(\"Event(Y)\")+\n",
    "  theme(axis.text = element_text(size = 18), axis.title = element_text(size = 26, face = \"bold\"), legend.text = element_text(size = 20))\n"
   ]
  },
  {
   "cell_type": "code",
   "execution_count": 240,
   "metadata": {},
   "outputs": [],
   "source": [
    "l1 = glm(formula = diagnosis~.,family = binomial, data = data)\n",
    "prob_pred = predict(classifier, type = 'response', newdata = data[,2:3])\n",
    "y_pred = ifelse(prob_pred > 0.5, 1, 0)"
   ]
  },
  {
   "cell_type": "code",
   "execution_count": 250,
   "metadata": {},
   "outputs": [
    {
     "data": {
      "text/plain": [
       "\n",
       "Call:  glm(formula = diagnosis ~ ., family = binomial, data = data)\n",
       "\n",
       "Coefficients:\n",
       " (Intercept)   radius_mean  texture_mean  \n",
       "      5.7198       -0.7923        0.2510  \n",
       "\n",
       "Degrees of Freedom: 9 Total (i.e. Null);  7 Residual\n",
       "Null Deviance:\t    13.86 \n",
       "Residual Deviance: 5.2 \tAIC: 11.2"
      ]
     },
     "metadata": {},
     "output_type": "display_data"
    }
   ],
   "source": [
    "l1"
   ]
  },
  {
   "cell_type": "code",
   "execution_count": 872,
   "metadata": {
    "collapsed": true
   },
   "outputs": [],
   "source": [
    "#Declaring variables\n",
    "parameter_vector = matrix(data = 0, nrow = 3, ncol = 1 )\n",
    "design_matrix = cbind(matrix(data = 1, nrow = 10, ncol = 1), as.matrix(data[,2:3]))\n",
    "colnames(design_matrix) = NULL\n",
    "y = as.matrix(data[,1])\n",
    "y = matrix(data = as.numeric(y), nrow = 10, ncol = 1)\n",
    "colnames(y) = NULL\n",
    "m = nrow(data)\n",
    "temp = parameter_vector\n",
    "alpha = 0.01\n",
    "change = 1\n"
   ]
  },
  {
   "cell_type": "code",
   "execution_count": null,
   "metadata": {
    "collapsed": true
   },
   "outputs": [],
   "source": [
    "while(change == 1){\n",
    "  z = design_matrix%*%parameter_vector\n",
    "  hypothesis_matrix = 1/(1 + exp(-z))\n",
    "  diff = hypothesis_matrix - y\n",
    "  temp = parameter_vector - t(alpha/m*t(diff)%*%design_matrix)\n",
    "  print(temp)\n",
    "  if(all(temp == parameter_vector)){\n",
    "    change = 0\n",
    "  }\n",
    "    parameter_vector = temp\n",
    "}"
   ]
  },
  {
   "cell_type": "code",
   "execution_count": 908,
   "metadata": {},
   "outputs": [
    {
     "data": {
      "text/html": [
       "<table>\n",
       "<tbody>\n",
       "\t<tr><th scope=row>230</th><td>0.751840055</td></tr>\n",
       "\t<tr><th scope=row>231</th><td>0.048013669</td></tr>\n",
       "\t<tr><th scope=row>232</th><td>0.972368047</td></tr>\n",
       "\t<tr><th scope=row>233</th><td>0.995881487</td></tr>\n",
       "\t<tr><th scope=row>234</th><td>0.038784850</td></tr>\n",
       "\t<tr><th scope=row>235</th><td>0.860279846</td></tr>\n",
       "\t<tr><th scope=row>236</th><td>0.475264700</td></tr>\n",
       "\t<tr><th scope=row>237</th><td>0.004112714</td></tr>\n",
       "\t<tr><th scope=row>238</th><td>0.007143532</td></tr>\n",
       "\t<tr><th scope=row>239</th><td>0.828152031</td></tr>\n",
       "</tbody>\n",
       "</table>\n"
      ],
      "text/latex": [
       "\\begin{tabular}{r|l}\n",
       "\t230 & 0.751840055\\\\\n",
       "\t231 & 0.048013669\\\\\n",
       "\t232 & 0.972368047\\\\\n",
       "\t233 & 0.995881487\\\\\n",
       "\t234 & 0.038784850\\\\\n",
       "\t235 & 0.860279846\\\\\n",
       "\t236 & 0.475264700\\\\\n",
       "\t237 & 0.004112714\\\\\n",
       "\t238 & 0.007143532\\\\\n",
       "\t239 & 0.828152031\\\\\n",
       "\\end{tabular}\n"
      ],
      "text/markdown": [
       "\n",
       "| 230 | 0.751840055 | \n",
       "| 231 | 0.048013669 | \n",
       "| 232 | 0.972368047 | \n",
       "| 233 | 0.995881487 | \n",
       "| 234 | 0.038784850 | \n",
       "| 235 | 0.860279846 | \n",
       "| 236 | 0.475264700 | \n",
       "| 237 | 0.004112714 | \n",
       "| 238 | 0.007143532 | \n",
       "| 239 | 0.828152031 | \n",
       "\n",
       "\n"
      ],
      "text/plain": [
       "    [,1]       \n",
       "230 0.751840055\n",
       "231 0.048013669\n",
       "232 0.972368047\n",
       "233 0.995881487\n",
       "234 0.038784850\n",
       "235 0.860279846\n",
       "236 0.475264700\n",
       "237 0.004112714\n",
       "238 0.007143532\n",
       "239 0.828152031"
      ]
     },
     "metadata": {},
     "output_type": "display_data"
    }
   ],
   "source": [
    "hypothesis_matrix"
   ]
  },
  {
   "cell_type": "code",
   "execution_count": 919,
   "metadata": {
    "collapsed": true
   },
   "outputs": [],
   "source": [
    "res <- function(x){\n",
    "    z = x%*%parameter_vector\n",
    "    value = 1/(1 + exp(-z))\n",
    "    if(value >= 0.5){\n",
    "        ans = 1\n",
    "    }\n",
    "    else{\n",
    "        ans = 0\n",
    "        }\n",
    "    return(ans)\n",
    "}"
   ]
  },
  {
   "cell_type": "markdown",
   "metadata": {},
   "source": [
    "<h1>Relation between glm model and my model</h1>"
   ]
  },
  {
   "cell_type": "code",
   "execution_count": 921,
   "metadata": {},
   "outputs": [
    {
     "data": {
      "text/html": [
       "<table>\n",
       "<tbody>\n",
       "\t<tr><td>0.9995627</td></tr>\n",
       "</tbody>\n",
       "</table>\n"
      ],
      "text/latex": [
       "\\begin{tabular}{l}\n",
       "\t 0.9995627\\\\\n",
       "\\end{tabular}\n"
      ],
      "text/markdown": [
       "\n",
       "| 0.9995627 | \n",
       "\n",
       "\n"
      ],
      "text/plain": [
       "     [,1]     \n",
       "[1,] 0.9995627"
      ]
     },
     "metadata": {},
     "output_type": "display_data"
    }
   ],
   "source": [
    "cor(l1$coefficients, parameter_vector)"
   ]
  }
 ],
 "metadata": {
  "kernelspec": {
   "display_name": "R",
   "language": "R",
   "name": "ir"
  },
  "language_info": {
   "codemirror_mode": "r",
   "file_extension": ".r",
   "mimetype": "text/x-r-source",
   "name": "R",
   "pygments_lexer": "r",
   "version": "3.4.2"
  }
 },
 "nbformat": 4,
 "nbformat_minor": 2
}
