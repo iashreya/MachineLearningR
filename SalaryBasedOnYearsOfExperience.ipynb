{
 "cells": [
  {
   "cell_type": "code",
   "execution_count": 3,
   "metadata": {
    "collapsed": true
   },
   "outputs": [],
   "source": [
    "setwd(\"A:/Documents and Data/R/Machine Learning A-Z Template Folder/Part 2 - Regression/Section 4 - Simple Linear Regression/Simple_Linear_Regression\")\n",
    "#Importing the data\n",
    "dataset = read.csv('Salary_Data.csv')"
   ]
  },
  {
   "cell_type": "code",
   "execution_count": 4,
   "metadata": {
    "collapsed": true
   },
   "outputs": [],
   "source": [
    "#Variables for the model\n",
    "sum_yoe = sum(dataset$YearsExperience)\n",
    "sum_yoe_sq = sum(dataset$YearsExperience*dataset$YearsExperience)\n",
    "sum_yoe_sal = sum(dataset$YearsExperience*dataset$Salary)\n",
    "sum_sal = sum(dataset$Salary)\n",
    "\n",
    "change = 1\n",
    "theta0 = 0\n",
    "theta1 = 0\n",
    "m = nrow(dataset)\n",
    "alpha = 0.008\n",
    "\n",
    "\n",
    "while (change == 1) {\n",
    "  temp0 = theta0 - (alpha/m)*(m*theta0 + theta1*sum_yoe - sum_sal)\n",
    "  temp1 = theta1 - (alpha/m)*(theta0*sum_yoe + theta1*sum_yoe_sq - sum_yoe_sal)\n",
    "  if(temp0 == theta0 && temp1 == theta1){\n",
    "    change = 0}\n",
    "  theta0 = temp0\n",
    "  theta1 = temp1\n",
    "  theta0\n",
    "  theta1\n",
    "  }"
   ]
  },
  {
   "cell_type": "code",
   "execution_count": 5,
   "metadata": {
    "collapsed": true
   },
   "outputs": [],
   "source": [
    "#Function definition\n",
    "fun <- function(x) {\n",
    "  return(theta0 + theta1*x)\n",
    "}"
   ]
  },
  {
   "cell_type": "code",
   "execution_count": 6,
   "metadata": {
    "collapsed": true
   },
   "outputs": [],
   "source": [
    "regressor = lm(formula = Salary ~ . , data = dataset)\n",
    "y_pred = predict(object = regressor, newdata = dataset)"
   ]
  },
  {
   "cell_type": "code",
   "execution_count": 7,
   "metadata": {},
   "outputs": [
    {
     "data": {},
     "metadata": {},
     "output_type": "display_data"
    },
    {
     "data": {
      "image/png": "[encoded data removed]",
      "text/plain": [
       "plot without title"
      ]
     },
     "metadata": {},
     "output_type": "display_data"
    }
   ],
   "source": [
    "library(ggplot2)\n",
    "ggplot() +\n",
    "geom_line(mapping = aes(x = dataset$YearsExperience, y = dataset$Salary), color = \"blue\") +\n",
    "geom_line(mapping = aes(x = dataset$YearsExperience, y = fun(dataset$YearsExperience)), color = \"red\") "
   ]
  },
  {
   "cell_type": "code",
   "execution_count": 9,
   "metadata": {},
   "outputs": [
    {
     "data": {
      "text/html": [
       "1"
      ],
      "text/latex": [
       "1"
      ],
      "text/markdown": [
       "1"
      ],
      "text/plain": [
       "[1] 1"
      ]
     },
     "metadata": {},
     "output_type": "display_data"
    }
   ],
   "source": [
    "#Relation between my_function and lm\n",
    "cor(y_pred, fun(dataset$YearsExperience))"
   ]
  },
  {
   "cell_type": "code",
   "execution_count": null,
   "metadata": {
    "collapsed": true
   },
   "outputs": [],
   "source": []
  }
 ],
 "metadata": {
  "kernelspec": {
   "display_name": "R",
   "language": "R",
   "name": "ir"
  },
  "language_info": {
   "codemirror_mode": "r",
   "file_extension": ".r",
   "mimetype": "text/x-r-source",
   "name": "R",
   "pygments_lexer": "r",
   "version": "3.4.2"
  }
 },
 "nbformat": 4,
 "nbformat_minor": 2
}
